{
 "cells": [
  {
   "cell_type": "markdown",
   "id": "73570dac",
   "metadata": {},
   "source": [
    "#### Task 1: Write a Python program will calculate the area and perimeter of a triangle using two different functions named calcArea() and calcPerimeter(). Your program should prompt the user for the length of three sides of the triangle. Each function should take the lengths of the sides as arguments and return the output of their respective calculations. As an added feature, set the default values of your parameters to 1 so if you call either function without parameters, it will still produce output) (I recommend using Heron’s Method for calculating the area of a triangle.)"
   ]
  },
  {
   "cell_type": "code",
   "execution_count": 6,
   "id": "56a529ae",
   "metadata": {},
   "outputs": [
    {
     "name": "stdout",
     "output_type": "stream",
     "text": [
      "Length of side a: 4\n",
      "Length of side b: 5\n",
      "Length of side c: 7\n",
      "Area of the triangle squared: 9.80\n",
      "Perimeter of the triangle: 16.00\n"
     ]
    }
   ],
   "source": [
    "import math\n",
    "\n",
    "#Function to calculate the area of a triangle with Heron's formula.\n",
    "def calcArea(a=1, b=1, c=1):\n",
    "    #Calculate the s value.\n",
    "    s=(a+b+c)/2\n",
    "    #Calculate area using Heron's formula.\n",
    "    area = math.sqrt(s*(s-a)*(s-b)*(s-c))\n",
    "    return area\n",
    "\n",
    "#Calculate the perimeter.\n",
    "def calcPerimeter(a=1, b=1, c=1):\n",
    "    perimeter=a+b+c\n",
    "    return perimeter\n",
    "\n",
    "#User input for the lengths.\n",
    "side_a=float(input(\"Length of side a: \"))\n",
    "side_b=float(input(\"Length of side b: \"))\n",
    "side_c=float(input(\"Length of side c: \"))\n",
    "\n",
    "#Calculate and display the area and perimeter.\n",
    "area=calcArea(side_a, side_b, side_c)\n",
    "perimeter=calcPerimeter(side_a, side_b, side_c)\n",
    "\n",
    "print(f\"Area of the triangle squared: {area:.2f}\")\n",
    "print(f\"Perimeter of the triangle: {perimeter:.2f}\")\n"
   ]
  },
  {
   "cell_type": "markdown",
   "id": "a3b566a7",
   "metadata": {},
   "source": [
    "#### Task2: Write a Python program to play “Guess the Number”. Your program should generate a random number between 1 and 1000 and then prompt the user for a guess. Possible responses to the guess should be ‘Too high! Guess again’, ‘Too low! Guess again’, and ‘Correct!’."
   ]
  },
  {
   "cell_type": "code",
   "execution_count": 9,
   "id": "b3a719d0",
   "metadata": {},
   "outputs": [
    {
     "name": "stdout",
     "output_type": "stream",
     "text": [
      "Guess the number between 1 and 1000: 500\n",
      "Too low! Guess again.\n",
      "Guess the number between 1 and 1000: 750\n",
      "Too low! Guess again.\n",
      "Guess the number between 1 and 1000: 900\n",
      "Too high! Guess again.\n",
      "Guess the number between 1 and 1000: 800\n",
      "Too low! Guess again.\n",
      "Guess the number between 1 and 1000: 850\n",
      "Too high! Guess again.\n",
      "Guess the number between 1 and 1000: 825\n",
      "Too low! Guess again.\n",
      "Guess the number between 1 and 1000: 840\n",
      "Too high! Guess again.\n",
      "Guess the number between 1 and 1000: 830\n",
      "Correct!\n",
      "Congratulations! You guessed 8 times!\n"
     ]
    }
   ],
   "source": [
    "import random\n",
    "\n",
    "#Function of the user's guess.\n",
    "def evaluateGuess(guess, target):\n",
    "    if guess<target:\n",
    "        return \"Too low! Guess again.\"\n",
    "    elif guess>target:\n",
    "        return \"Too high! Guess again.\"\n",
    "    else:\n",
    "        return \"Correct!\"\n",
    "\n",
    "#Gen random number between 1 and 1000.\n",
    "target_number=random.randint(1, 1000)\n",
    "\n",
    "#Variable to track the number of guesses.\n",
    "attempts=0\n",
    "\n",
    "while True:\n",
    "    try:\n",
    "        #Prompt the user for a guess.\n",
    "        user_guess=int(input(\"Guess the number between 1 and 1000: \"))\n",
    "        attempts+=1\n",
    "\n",
    "        #Evaluate the user's guess.\n",
    "        result=evaluateGuess(user_guess, target_number)\n",
    "        print(result)\n",
    "\n",
    "        #Check if the guess is correct.\n",
    "        if result==\"Correct!\":\n",
    "            print(f\"Congratulations! You guessed {attempts} times!\")\n",
    "            break\n",
    "    except ValueError:\n",
    "        print(\"Please enter a valid number.\")\n",
    "\n",
    "#End"
   ]
  },
  {
   "cell_type": "markdown",
   "id": "ec05ca19",
   "metadata": {},
   "source": [
    "#### Task3: Write a Python program to calculate the mean temperature over a set of Fahrenheit temperature values. Your program should calculate the mean in a function called meanTemp()and then print message that indicates the number of days your mean represents and the mean (see below). Your function should be flexible so that you can pass any number of temperatures to it. You do not need to get input from the user; simply include the temperatures in the function parameter list."
   ]
  },
  {
   "cell_type": "code",
   "execution_count": 12,
   "id": "420db365",
   "metadata": {},
   "outputs": [
    {
     "name": "stdout",
     "output_type": "stream",
     "text": [
      "Mean temp for the past 5 days: 89.80°F\n"
     ]
    }
   ],
   "source": [
    "def meanTemp(*temperatures):\n",
    "    num_days=len(temperatures)\n",
    "    if num_days==0:\n",
    "        return 0  #Avoid division by zero if no temperatures are provided\n",
    "    total_temperature=sum(temperatures)\n",
    "    mean_temperature=total_temperature/num_days\n",
    "    return num_days, mean_temperature\n",
    "\n",
    "# Example temperatures for a set of days\n",
    "temperatures=[85, 97, 100, 80, 87]\n",
    "\n",
    "#Mean temperature and display the result\n",
    "num_days, mean=meanTemp(*temperatures)\n",
    "print(f\"Mean temp for the past {num_days} days: {mean:.2f}°F\")\n"
   ]
  },
  {
   "cell_type": "markdown",
   "id": "874c1da7",
   "metadata": {},
   "source": [
    "#### Justin Harlow, Fall CS-150 2023."
   ]
  },
  {
   "cell_type": "code",
   "execution_count": null,
   "id": "deac8609",
   "metadata": {},
   "outputs": [],
   "source": []
  }
 ],
 "metadata": {
  "kernelspec": {
   "display_name": "Python 3 (ipykernel)",
   "language": "python",
   "name": "python3"
  },
  "language_info": {
   "codemirror_mode": {
    "name": "ipython",
    "version": 3
   },
   "file_extension": ".py",
   "mimetype": "text/x-python",
   "name": "python",
   "nbconvert_exporter": "python",
   "pygments_lexer": "ipython3",
   "version": "3.11.4"
  }
 },
 "nbformat": 4,
 "nbformat_minor": 5
}
